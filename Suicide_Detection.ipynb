{
 "cells": [
  {
   "cell_type": "markdown",
   "metadata": {},
   "source": [
    "### 데이터 불러오기"
   ]
  },
  {
   "cell_type": "code",
   "execution_count": 2,
   "metadata": {},
   "outputs": [],
   "source": [
    "import re #정규 표현식\n",
    "import nltk #자연어처리\n",
    "from nltk.corpus import stopwords #불용어처리\n",
    "import pandas as pd\n",
    "import numpy as np"
   ]
  },
  {
   "cell_type": "code",
   "execution_count": 4,
   "metadata": {},
   "outputs": [
    {
     "name": "stdout",
     "output_type": "stream",
     "text": [
      "전체 데이터프레임 확인 : \n",
      "        Unnamed: 0                                               text  \\\n",
      "0                2  Ex Wife Threatening SuicideRecently I left my ...   \n",
      "1                3  Am I weird I don't get affected by compliments...   \n",
      "2                4  Finally 2020 is almost over... So I can never ...   \n",
      "3                8          i need helpjust help me im crying so hard   \n",
      "4                9  I’m so lostHello, my name is Adam (16) and I’v...   \n",
      "...            ...                                                ...   \n",
      "232069      348103  If you don't like rock then your not going to ...   \n",
      "232070      348106  You how you can tell i have so many friends an...   \n",
      "232071      348107  pee probably tastes like salty tea😏💦‼️ can som...   \n",
      "232072      348108  The usual stuff you find hereI'm not posting t...   \n",
      "232073      348110  I still haven't beaten the first boss in Hollo...   \n",
      "\n",
      "              class  \n",
      "0           suicide  \n",
      "1       non-suicide  \n",
      "2       non-suicide  \n",
      "3           suicide  \n",
      "4           suicide  \n",
      "...             ...  \n",
      "232069  non-suicide  \n",
      "232070  non-suicide  \n",
      "232071  non-suicide  \n",
      "232072      suicide  \n",
      "232073  non-suicide  \n",
      "\n",
      "[232074 rows x 3 columns]\n",
      "********************************************************************************\n",
      "기본 정보 확인하기\n",
      "<class 'pandas.core.frame.DataFrame'>\n",
      "RangeIndex: 232074 entries, 0 to 232073\n",
      "Data columns (total 3 columns):\n",
      " #   Column      Non-Null Count   Dtype \n",
      "---  ------      --------------   ----- \n",
      " 0   Unnamed: 0  232074 non-null  int64 \n",
      " 1   text        232074 non-null  object\n",
      " 2   class       232074 non-null  object\n",
      "dtypes: int64(1), object(2)\n",
      "memory usage: 5.3+ MB\n"
     ]
    }
   ],
   "source": [
    "file_path = 'D:\\Code\\우울증 예측(텍스트 분류 모델)/Suicide_Detection.csv'\n",
    "\n",
    "df = pd.read_csv(file_path)\n",
    "\n",
    "print(f'전체 데이터프레임 확인 : \\n{df}')\n",
    "\n",
    "print('*'*80)\n",
    "\n",
    "print('기본 정보 확인하기')\n",
    "df.info()"
   ]
  },
  {
   "cell_type": "markdown",
   "metadata": {},
   "source": [
    "### 데이터 전처리"
   ]
  },
  {
   "cell_type": "code",
   "execution_count": null,
   "metadata": {},
   "outputs": [],
   "source": [
    "nltk.download('punkt') ##문장부호\n",
    "nltk.download('stopwords') ##불용어"
   ]
  },
  {
   "cell_type": "markdown",
   "metadata": {},
   "source": [
    "#### 전처리 함수"
   ]
  },
  {
   "cell_type": "code",
   "execution_count": null,
   "metadata": {},
   "outputs": [],
   "source": [
    "# 전처리 함수 정의\n",
    "\n",
    "def preprocessing(text, remove_stopwords = False) : \n",
    "    # 불용어 제거는 옵션으로\n",
    "    # 1. 영어 알파벳을 제외한 나머지 문자, 공백, 숫자 등을 공백(' ')으로 대체\n",
    "    text = re.sub('[^a-zA-Z]',' ', text) \n",
    "    #문자열치환 : re.sub(pattern, replace, text), text 중 pattern에 해당하는 부분을 replace로 대체한다.\n",
    "    # 2. 대문자 --> 소문자로 변환 + nltk.word_tokenize() 함수로 토큰화\n",
    "    words = nltk.word_tokenize(text.lower())\n",
    "    # 3. 불용어 제거\n",
    "    if remove_stopwords : \n",
    "        # 불용어 리스트 생성\n",
    "        stopwords_list = stopwords.words('english')\n",
    "        # 불용어가 아닌 단어(토큰)들로 이루어진 새로운 리스트 생성\n",
    "        clean_words = []\n",
    "        for word in words :\n",
    "            if word not in stopwords_list :"
   ]
  }
 ],
 "metadata": {
  "kernelspec": {
   "display_name": "rollbackTarget",
   "language": "python",
   "name": "conda"
  },
  "language_info": {
   "codemirror_mode": {
    "name": "ipython",
    "version": 3
   },
   "file_extension": ".py",
   "mimetype": "text/x-python",
   "name": "python",
   "nbconvert_exporter": "python",
   "pygments_lexer": "ipython3",
   "version": "3.11.5"
  }
 },
 "nbformat": 4,
 "nbformat_minor": 2
}
