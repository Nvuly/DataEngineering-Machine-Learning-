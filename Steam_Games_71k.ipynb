{
 "cells": [
  {
   "cell_type": "markdown",
   "metadata": {},
   "source": [
    "## Objective\n",
    "- 게임설명이 비슷한 게임들을 추천하는 시스템 제작"
   ]
  },
  {
   "cell_type": "markdown",
   "metadata": {},
   "source": [
    "### Data Load"
   ]
  },
  {
   "cell_type": "code",
   "execution_count": 10,
   "metadata": {},
   "outputs": [],
   "source": [
    "import numpy as np\n",
    "import pandas as pd\n",
    "import requests\n",
    "from bs4 import BeautifulSoup\n",
    "import matplotlib.pyplot as plt\n",
    "import seaborn as sns\n",
    "from sklearn.model_selection import GridSearchCV\n",
    "from sklearn.model_selection import train_test_split\n",
    "from sklearn.metrics import accuracy_score, f1_score, precision_score, recall_score\n",
    "from sklearn.tree import DecisionTreeClassifier\n",
    "\n",
    "\n",
    "import tensorflow as tf\n",
    "from sklearn.metrics.pairwise import linear_kernel\n",
    "from sentence_transformers import SentenceTransformer"
   ]
  },
  {
   "cell_type": "markdown",
   "metadata": {},
   "source": [
    "- Sentence-BERT 모델은 BERT를 기반으로 sentence embedding vector를 생성하는 모델.\n",
    "\tBERT 모델은 문장 내 모든 단어들을 참고한 문맥을 가진 임베딩 벡터를 만드는 모델이며 문장의 의미를 추출하는데 강점임."
   ]
  },
  {
   "cell_type": "code",
   "execution_count": 12,
   "metadata": {},
   "outputs": [
    {
     "data": {
      "text/plain": [
       "'\\n\\nSentenceTransformer는 HuggingFace 라이브러리, 모델을 다운받아 사용하기 위한 라이브러리임.\\nlinear_kernel는 여러 문장과 문장 사이의 코사인 유사도를 측정할 때 사용하는 라이브러리임.\\npandas는 데이터를 DataFrame과 Series를 만들거나 전처리하는데 필요한 라이브러리임.\\nnumpy는 텍스트를 문장 임베딩 벡터로 생성한 값을 저장, 불러오기 위한 라이브러리임.\\n\\n'"
      ]
     },
     "execution_count": 12,
     "metadata": {},
     "output_type": "execute_result"
    }
   ],
   "source": [
    "# 라이브러리\n",
    "'''\n",
    "\n",
    "SentenceTransformer는 HuggingFace 라이브러리, 모델을 다운받아 사용하기 위한 라이브러리임.\n",
    "linear_kernel는 여러 문장과 문장 사이의 코사인 유사도를 측정할 때 사용하는 라이브러리임.\n",
    "pandas는 데이터를 DataFrame과 Series를 만들거나 전처리하는데 필요한 라이브러리임.\n",
    "numpy는 텍스트를 문장 임베딩 벡터로 생성한 값을 저장, 불러오기 위한 라이브러리임.\n",
    "\n",
    "'''\n",
    "\n"
   ]
  },
  {
   "cell_type": "code",
   "execution_count": 19,
   "metadata": {},
   "outputs": [
    {
     "name": "stdout",
     "output_type": "stream",
     "text": [
      "         AppID                                    Name  Release date  \\\n",
      "0        20200                        Galactic Bowling  Oct 21, 2008   \n",
      "1       655370                            Train Bandit  Oct 12, 2017   \n",
      "2      1732930                            Jolt Project  Nov 17, 2021   \n",
      "3      1355720                                Henosis™  Jul 23, 2020   \n",
      "4      1139950                   Two Weeks in Painland   Feb 3, 2020   \n",
      "...        ...                                     ...           ...   \n",
      "71711  2159120                                    SUR5   Apr 1, 2023   \n",
      "71712  2125160                           Prison Life 2  Mar 30, 2023   \n",
      "71713  2318860                  Architecture Zeitgeist  Mar 27, 2023   \n",
      "71714  2180330  Girl's Way to Survive 2: Bloody Museum   Apr 2, 2023   \n",
      "71715  2352890                            Hentai Ariel  Mar 30, 2023   \n",
      "\n",
      "      Estimated owners  Peak CCU  Required age  Price  DLC count  \\\n",
      "0            0 - 20000         0             0  19.99          0   \n",
      "1            0 - 20000         0             0   0.99          0   \n",
      "2            0 - 20000         0             0   4.99          0   \n",
      "3            0 - 20000         0             0   5.99          0   \n",
      "4            0 - 20000         0             0   0.00          0   \n",
      "...                ...       ...           ...    ...        ...   \n",
      "71711            0 - 0         0             0   0.00          0   \n",
      "71712        0 - 20000         6             0  10.79          0   \n",
      "71713        0 - 20000         0             0   5.99          0   \n",
      "71714            0 - 0         0             0   2.39          0   \n",
      "71715        0 - 20000         1             0   0.74          0   \n",
      "\n",
      "                                          About the game  \\\n",
      "0      Galactic Bowling is an exaggerated and stylize...   \n",
      "1      THE LAW!! Looks to be a showdown atop a train....   \n",
      "2      Jolt Project: The army now has a new robotics ...   \n",
      "3      HENOSIS™ is a mysterious 2D Platform Puzzler w...   \n",
      "4      ABOUT THE GAME Play as a hacker who has arrang...   \n",
      "...                                                  ...   \n",
      "71711  Innovative Gameplay SUR5 brings a brand new, f...   \n",
      "71712  Core Features Real players only! All Guards an...   \n",
      "71713  Architecture Zeitgeist is a game created with ...   \n",
      "71714  Development progress: prologue map (finished),...   \n",
      "71715  'Hentai Ariel' is a unique puzzle in which the...   \n",
      "\n",
      "                                     Supported languages  ...  \\\n",
      "0                                            ['English']  ...   \n",
      "1      ['English', 'French', 'Italian', 'German', 'Sp...  ...   \n",
      "2                     ['English', 'Portuguese - Brazil']  ...   \n",
      "3      ['English', 'French', 'Italian', 'German', 'Sp...  ...   \n",
      "4                         ['English', 'Spanish - Spain']  ...   \n",
      "...                                                  ...  ...   \n",
      "71711   ['English', 'Polish', 'Spanish - Latin America']  ...   \n",
      "71712  ['English', 'French', 'Italian', 'German', 'Sp...  ...   \n",
      "71713  ['English', 'Japanese', 'Portuguese - Brazil',...  ...   \n",
      "71714                             ['Simplified Chinese']  ...   \n",
      "71715  ['English', 'French', 'Italian', 'German', 'Sp...  ...   \n",
      "\n",
      "      Average playtime two weeks Median playtime forever  \\\n",
      "0                              0                       0   \n",
      "1                              0                       0   \n",
      "2                              0                       0   \n",
      "3                              0                       0   \n",
      "4                              0                       0   \n",
      "...                          ...                     ...   \n",
      "71711                          0                       0   \n",
      "71712                          0                       0   \n",
      "71713                          0                       0   \n",
      "71714                          0                       0   \n",
      "71715                          0                       0   \n",
      "\n",
      "      Median playtime two weeks             Developers             Publishers  \\\n",
      "0                             0  Perpetual FX Creative  Perpetual FX Creative   \n",
      "1                             0           Rusty Moyher           Wild Rooster   \n",
      "2                             0          Campião Games          Campião Games   \n",
      "3                             0      Odd Critter Games      Odd Critter Games   \n",
      "4                             0          Unusual Games          Unusual Games   \n",
      "...                         ...                    ...                    ...   \n",
      "71711                         0              Katharsis              Katharsis   \n",
      "71712                         0               AO Games               AO Games   \n",
      "71713                         0           Matheus Rudo           Rudo Studios   \n",
      "71714                         0                 绅士游戏工坊                 绅士游戏工坊   \n",
      "71715                         0             Cyber Keks             Cyber Keks   \n",
      "\n",
      "                                              Categories  \\\n",
      "0      Single-player,Multi-player,Steam Achievements,...   \n",
      "1      Single-player,Steam Achievements,Full controll...   \n",
      "2                                          Single-player   \n",
      "3                  Single-player,Full controller support   \n",
      "4                       Single-player,Steam Achievements   \n",
      "...                                                  ...   \n",
      "71711  Single-player,Multi-player,PvP,Online PvP,Stea...   \n",
      "71712  Single-player,Multi-player,PvP,Online PvP,Co-o...   \n",
      "71713                                      Single-player   \n",
      "71714                                      Single-player   \n",
      "71715                   Single-player,Steam Achievements   \n",
      "\n",
      "                                                  Genres  \\\n",
      "0                                    Casual,Indie,Sports   \n",
      "1                                           Action,Indie   \n",
      "2                        Action,Adventure,Indie,Strategy   \n",
      "3                                 Adventure,Casual,Indie   \n",
      "4                                        Adventure,Indie   \n",
      "...                                                  ...   \n",
      "71711  Free to Play,Indie,Massively Multiplayer,Strat...   \n",
      "71712               Casual,Indie,RPG,Simulation,Strategy   \n",
      "71713                     Casual,Simulation,Early Access   \n",
      "71714               Action,Casual,Indie,RPG,Early Access   \n",
      "71715                                       Casual,Indie   \n",
      "\n",
      "                                                    Tags  \\\n",
      "0                            Indie,Casual,Sports,Bowling   \n",
      "1      Indie,Action,Pixel Graphics,2D,Retro,Arcade,Sc...   \n",
      "2                                                    NaN   \n",
      "3      2D Platformer,Atmospheric,Surreal,Mystery,Puzz...   \n",
      "4      Indie,Adventure,Nudity,Violent,Sexual Content,...   \n",
      "...                                                  ...   \n",
      "71711                                                NaN   \n",
      "71712  First-Person,Detective,Social Deduction,Multip...   \n",
      "71713  Casual,Simulation,Puzzle,Exploration,Immersive...   \n",
      "71714                                                NaN   \n",
      "71715                                                NaN   \n",
      "\n",
      "                                             Screenshots  \\\n",
      "0      https://cdn.akamai.steamstatic.com/steam/apps/...   \n",
      "1      https://cdn.akamai.steamstatic.com/steam/apps/...   \n",
      "2      https://cdn.akamai.steamstatic.com/steam/apps/...   \n",
      "3      https://cdn.akamai.steamstatic.com/steam/apps/...   \n",
      "4      https://cdn.akamai.steamstatic.com/steam/apps/...   \n",
      "...                                                  ...   \n",
      "71711  https://cdn.akamai.steamstatic.com/steam/apps/...   \n",
      "71712  https://cdn.akamai.steamstatic.com/steam/apps/...   \n",
      "71713  https://cdn.akamai.steamstatic.com/steam/apps/...   \n",
      "71714  https://cdn.akamai.steamstatic.com/steam/apps/...   \n",
      "71715  https://cdn.akamai.steamstatic.com/steam/apps/...   \n",
      "\n",
      "                                                  Movies  \n",
      "0      http://cdn.akamai.steamstatic.com/steam/apps/2...  \n",
      "1      http://cdn.akamai.steamstatic.com/steam/apps/2...  \n",
      "2      http://cdn.akamai.steamstatic.com/steam/apps/2...  \n",
      "3      http://cdn.akamai.steamstatic.com/steam/apps/2...  \n",
      "4      http://cdn.akamai.steamstatic.com/steam/apps/2...  \n",
      "...                                                  ...  \n",
      "71711  http://cdn.akamai.steamstatic.com/steam/apps/2...  \n",
      "71712  http://cdn.akamai.steamstatic.com/steam/apps/2...  \n",
      "71713  http://cdn.akamai.steamstatic.com/steam/apps/2...  \n",
      "71714  http://cdn.akamai.steamstatic.com/steam/apps/2...  \n",
      "71715  http://cdn.akamai.steamstatic.com/steam/apps/2...  \n",
      "\n",
      "[71716 rows x 39 columns]\n"
     ]
    }
   ],
   "source": [
    "file_path = 'D:\\Code\\DataSets/games.csv'\n",
    "\n",
    "df_games = pd.read_csv(file_path)\n",
    "\n",
    "print(df_games)"
   ]
  },
  {
   "cell_type": "markdown",
   "metadata": {},
   "source": [
    "### Pre-processing"
   ]
  },
  {
   "cell_type": "code",
   "execution_count": 20,
   "metadata": {},
   "outputs": [
    {
     "name": "stdout",
     "output_type": "stream",
     "text": [
      "<class 'pandas.core.frame.DataFrame'>\n",
      "RangeIndex: 71716 entries, 0 to 71715\n",
      "Data columns (total 39 columns):\n",
      " #   Column                      Non-Null Count  Dtype  \n",
      "---  ------                      --------------  -----  \n",
      " 0   AppID                       71716 non-null  int64  \n",
      " 1   Name                        71715 non-null  object \n",
      " 2   Release date                71716 non-null  object \n",
      " 3   Estimated owners            71716 non-null  object \n",
      " 4   Peak CCU                    71716 non-null  int64  \n",
      " 5   Required age                71716 non-null  int64  \n",
      " 6   Price                       71716 non-null  float64\n",
      " 7   DLC count                   71716 non-null  int64  \n",
      " 8   About the game              69280 non-null  object \n",
      " 9   Supported languages         71716 non-null  object \n",
      " 10  Full audio languages        71716 non-null  object \n",
      " 11  Reviews                     9167 non-null   object \n",
      " 12  Header image                71716 non-null  object \n",
      " 13  Website                     35073 non-null  object \n",
      " 14  Support url                 36250 non-null  object \n",
      " 15  Support email               60596 non-null  object \n",
      " 16  Windows                     71716 non-null  bool   \n",
      " 17  Mac                         71716 non-null  bool   \n",
      " 18  Linux                       71716 non-null  bool   \n",
      " 19  Metacritic score            71716 non-null  int64  \n",
      " 20  Metacritic url              3778 non-null   object \n",
      " 21  User score                  71716 non-null  int64  \n",
      " 22  Positive                    71716 non-null  int64  \n",
      " 23  Negative                    71716 non-null  int64  \n",
      " 24  Score rank                  42 non-null     float64\n",
      " 25  Achievements                71716 non-null  int64  \n",
      " 26  Recommendations             71716 non-null  int64  \n",
      " 27  Notes                       10442 non-null  object \n",
      " 28  Average playtime forever    71716 non-null  int64  \n",
      " 29  Average playtime two weeks  71716 non-null  int64  \n",
      " 30  Median playtime forever     71716 non-null  int64  \n",
      " 31  Median playtime two weeks   71716 non-null  int64  \n",
      " 32  Developers                  69255 non-null  object \n",
      " 33  Publishers                  68996 non-null  object \n",
      " 34  Categories                  68309 non-null  object \n",
      " 35  Genres                      69277 non-null  object \n",
      " 36  Tags                        57702 non-null  object \n",
      " 37  Screenshots                 70387 non-null  object \n",
      " 38  Movies                      66668 non-null  object \n",
      "dtypes: bool(3), float64(2), int64(14), object(20)\n",
      "memory usage: 19.9+ MB\n"
     ]
    }
   ],
   "source": [
    "df_games.info()"
   ]
  },
  {
   "cell_type": "code",
   "execution_count": 21,
   "metadata": {},
   "outputs": [
    {
     "name": "stdout",
     "output_type": "stream",
     "text": [
      "                                         Name  \\\n",
      "0                            Galactic Bowling   \n",
      "1                                Train Bandit   \n",
      "2                                Jolt Project   \n",
      "3                                    Henosis™   \n",
      "4                       Two Weeks in Painland   \n",
      "...                                       ...   \n",
      "71711                                    SUR5   \n",
      "71712                           Prison Life 2   \n",
      "71713                  Architecture Zeitgeist   \n",
      "71714  Girl's Way to Survive 2: Bloody Museum   \n",
      "71715                            Hentai Ariel   \n",
      "\n",
      "                                          About the game  \n",
      "0      Galactic Bowling is an exaggerated and stylize...  \n",
      "1      THE LAW!! Looks to be a showdown atop a train....  \n",
      "2      Jolt Project: The army now has a new robotics ...  \n",
      "3      HENOSIS™ is a mysterious 2D Platform Puzzler w...  \n",
      "4      ABOUT THE GAME Play as a hacker who has arrang...  \n",
      "...                                                  ...  \n",
      "71711  Innovative Gameplay SUR5 brings a brand new, f...  \n",
      "71712  Core Features Real players only! All Guards an...  \n",
      "71713  Architecture Zeitgeist is a game created with ...  \n",
      "71714  Development progress: prologue map (finished),...  \n",
      "71715  'Hentai Ariel' is a unique puzzle in which the...  \n",
      "\n",
      "[71716 rows x 2 columns]\n"
     ]
    }
   ],
   "source": [
    "data = df_games.loc[:,['Name','About the game']]\n",
    "\n",
    "print(data)"
   ]
  },
  {
   "cell_type": "markdown",
   "metadata": {},
   "source": [
    "### 결측치 확인 및 제거"
   ]
  },
  {
   "cell_type": "code",
   "execution_count": 27,
   "metadata": {},
   "outputs": [],
   "source": [
    "print(f'각 컬럼별 누락 삭제 전 데이터의 수 : \\n{data.isnull().sum()}')\n",
    "\n",
    "# 누락 데이터 존재.\n",
    "\n",
    "print('*'*80)\n",
    "\n",
    "cleaned_df = data.dropna()\n",
    "# 제거할 게 많을 땐 컬럼지정해서 dropna(subset)\n",
    "\n",
    "print(f'각 컬럼별 누락 삭제 후 데이터의 수 : \\n{cleaned_df.isnull().sum()}')\n"
   ]
  },
  {
   "cell_type": "code",
   "execution_count": null,
   "metadata": {},
   "outputs": [],
   "source": []
  }
 ],
 "metadata": {
  "kernelspec": {
   "display_name": "rollbackTarget",
   "language": "python",
   "name": "conda"
  },
  "language_info": {
   "codemirror_mode": {
    "name": "ipython",
    "version": 3
   },
   "file_extension": ".py",
   "mimetype": "text/x-python",
   "name": "python",
   "nbconvert_exporter": "python",
   "pygments_lexer": "ipython3",
   "version": "3.11.5"
  }
 },
 "nbformat": 4,
 "nbformat_minor": 2
}
