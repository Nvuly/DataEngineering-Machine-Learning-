{
 "cells": [
  {
   "cell_type": "markdown",
   "metadata": {},
   "source": [
    "## Function Importing"
   ]
  },
  {
   "cell_type": "code",
   "execution_count": 2,
   "metadata": {},
   "outputs": [
    {
     "name": "stdout",
     "output_type": "stream",
     "text": [
      "WARNING:tensorflow:From c:\\Users\\human\\anaconda3\\Lib\\site-packages\\keras\\src\\losses.py:2976: The name tf.losses.sparse_softmax_cross_entropy is deprecated. Please use tf.compat.v1.losses.sparse_softmax_cross_entropy instead.\n",
      "\n"
     ]
    }
   ],
   "source": [
    "import numpy as np\n",
    "import pandas as pd\n",
    "import requests\n",
    "from bs4 import BeautifulSoup\n",
    "import matplotlib.pyplot as plt\n",
    "import seaborn as sns\n",
    "from sklearn.model_selection import GridSearchCV\n",
    "from sklearn.model_selection import train_test_split\n",
    "from sklearn.metrics import accuracy_score, f1_score, precision_score, recall_score\n",
    "from sklearn.tree import DecisionTreeClassifier\n",
    "# ㅡㅡㅡㅡㅡㅡㅡㅡㅡㅡㅡㅡㅡㅡㅡㅡㅡㅡㅡㅡㅡㅡㅡㅡㅡㅡㅡㅡㅡㅡㅡㅡㅡㅡㅡㅡㅡㅡㅡㅡㅡㅡㅡㅡㅡㅡㅡ\n",
    "import tensorflow as tf\n",
    "\n",
    "from transformers import pipeline, set_seed, BertTokenizer, TFBertForSequenceClassification\n"
   ]
  },
  {
   "cell_type": "markdown",
   "metadata": {},
   "source": [
    "## Load Data"
   ]
  },
  {
   "cell_type": "code",
   "execution_count": 13,
   "metadata": {},
   "outputs": [
    {
     "name": "stdout",
     "output_type": "stream",
     "text": [
      "             subreddit post_id sentence_range  \\\n",
      "0                 ptsd  8601tu       (15, 20)   \n",
      "1           assistance  8lbrx9         (0, 5)   \n",
      "2                 ptsd  9ch1zh       (15, 20)   \n",
      "3        relationships  7rorpp        [5, 10]   \n",
      "4     survivorsofabuse  9p2gbc         [0, 5]   \n",
      "...                ...     ...            ...   \n",
      "2833     relationships  7oee1t       [35, 40]   \n",
      "2834              ptsd  9p4ung       [20, 25]   \n",
      "2835           anxiety  9nam6l        (5, 10)   \n",
      "2836    almosthomeless  5y53ya        [5, 10]   \n",
      "2837              ptsd  5y25cl         [0, 5]   \n",
      "\n",
      "                                                   text  label  confidence  \\\n",
      "0     He said he had not felt that way before, sugge...      1    0.800000   \n",
      "1     Hey there r/assistance, Not sure if this is th...      0    1.000000   \n",
      "2     My mom then hit me with the newspaper and it s...      1    0.800000   \n",
      "3     until i met my new boyfriend, he is amazing, h...      1    0.600000   \n",
      "4     October is Domestic Violence Awareness Month a...      1    0.800000   \n",
      "...                                                 ...    ...         ...   \n",
      "2833  * Her, a week ago: Precious, how are you? (I i...      0    1.000000   \n",
      "2834  I don't have the ability to cope with it anymo...      1    1.000000   \n",
      "2835  In case this is the first time you're reading ...      0    1.000000   \n",
      "2836  Do you find this normal? They have a good rela...      0    0.571429   \n",
      "2837  I was talking to my mom this morning and she s...      1    0.571429   \n",
      "\n",
      "      social_timestamp  \n",
      "0           1521614353  \n",
      "1           1527009817  \n",
      "2           1535935605  \n",
      "3           1516429555  \n",
      "4           1539809005  \n",
      "...                ...  \n",
      "2833        1515187044  \n",
      "2834        1539827412  \n",
      "2835        1539269312  \n",
      "2836        1488938143  \n",
      "2837        1488909516  \n",
      "\n",
      "[2838 rows x 7 columns]\n",
      "********************************************************************************\n",
      "                                                   text  label\n",
      "0     He said he had not felt that way before, sugge...      1\n",
      "1     Hey there r/assistance, Not sure if this is th...      0\n",
      "2     My mom then hit me with the newspaper and it s...      1\n",
      "3     until i met my new boyfriend, he is amazing, h...      1\n",
      "4     October is Domestic Violence Awareness Month a...      1\n",
      "...                                                 ...    ...\n",
      "2833  * Her, a week ago: Precious, how are you? (I i...      0\n",
      "2834  I don't have the ability to cope with it anymo...      1\n",
      "2835  In case this is the first time you're reading ...      0\n",
      "2836  Do you find this normal? They have a good rela...      0\n",
      "2837  I was talking to my mom this morning and she s...      1\n",
      "\n",
      "[2838 rows x 2 columns]\n"
     ]
    },
    {
     "data": {
      "text/plain": [
       "text     0\n",
       "label    0\n",
       "dtype: int64"
      ]
     },
     "execution_count": 13,
     "metadata": {},
     "output_type": "execute_result"
    }
   ],
   "source": [
    "### Load Data\n",
    "\n",
    "file_path = 'D:\\Code\\스트레스 예측 시스템/Stress.csv'\n",
    "df = pd.read_csv(file_path)\n",
    "\n",
    "print(df)\n",
    "\n",
    "# 임베딩에 차이가 있기 때문에 불용어 제외 머신러닝이라고 단정지을 수가 없음.\n",
    "\n",
    "# label 정답컬럼 (스트레스 받았냐 안받았냐 )\n",
    "\n",
    "# post_id 아이디 쓸모없음.?!\n",
    "\n",
    "print('*'*80)\n",
    "\n",
    "### Deleting useless columns\n",
    "\n",
    "df.drop(columns=['post_id', 'sentence_range','subreddit','confidence','social_timestamp'],inplace=True)\n",
    "print(df)"
   ]
  },
  {
   "cell_type": "code",
   "execution_count": 14,
   "metadata": {},
   "outputs": [
    {
     "data": {
      "text/plain": [
       "text     0\n",
       "label    0\n",
       "dtype: int64"
      ]
     },
     "execution_count": 14,
     "metadata": {},
     "output_type": "execute_result"
    }
   ],
   "source": [
    "### Checking isnull().sum(). \n",
    "\n",
    "df.isnull().sum()"
   ]
  },
  {
   "cell_type": "markdown",
   "metadata": {},
   "source": [
    "## Stopwords processing"
   ]
  },
  {
   "cell_type": "code",
   "execution_count": null,
   "metadata": {},
   "outputs": [],
   "source": []
  }
 ],
 "metadata": {
  "kernelspec": {
   "display_name": "rollbackTarget",
   "language": "python",
   "name": "conda"
  },
  "language_info": {
   "codemirror_mode": {
    "name": "ipython",
    "version": 3
   },
   "file_extension": ".py",
   "mimetype": "text/x-python",
   "name": "python",
   "nbconvert_exporter": "python",
   "pygments_lexer": "ipython3",
   "version": "3.11.5"
  }
 },
 "nbformat": 4,
 "nbformat_minor": 2
}
